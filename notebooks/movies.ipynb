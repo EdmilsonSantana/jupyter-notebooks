{
 "cells": [
  {
   "cell_type": "markdown",
   "id": "a03dd728-9f2b-4667-953d-965aafa1f2c0",
   "metadata": {},
   "source": [
    "# Análise de concorrentes da 5GFlix"
   ]
  },
  {
   "cell_type": "markdown",
   "id": "bbfe3f7f-459a-4c2a-9385-7eed1e4b8279",
   "metadata": {},
   "source": [
    "## Escopo do Desafio"
   ]
  },
  {
   "cell_type": "markdown",
   "id": "7c7dd667-954b-4880-a075-2ef9f272a8af",
   "metadata": {},
   "source": [
    "O novo aplicativo de streaming \"5GFlix\" está com o desafio de fazer estudos de mercado para formular a estratégia de negócio que irão adotar. \n",
    "\n",
    "Para uma parte do estudo de mercado, a \"5Gflix\" precisa fazer análises em cima de filmes e séries que estão disponíveis na Netflix, a sua concorrente direta.\n",
    "\n",
    "O CTO da \"5Gflix\", Alan Turing, entrou em contato com a turma para construir uma estrutura lógica que possibilite que o time de BI da \"5GFlix\" responda a várias perguntas de negócio relacionadas aos dados da Netflix, detalhadas nos entregáveis deste desafio.\n",
    "\n",
    "Para poder realizar as análises foi fornecida a seguinte base de dados:\n",
    "\n",
    "- Base1: https://drive.google.com/file/d/1gLsCjaMrL91ECdThq58cZAzB9tPxG18g/view?usp=sharing\n",
    "- Base2: https://drive.google.com/file/d/1C_T1w8fc7Oa8MeTo4LMTEcv90IfEOS-6/view?usp=sharing"
   ]
  },
  {
   "cell_type": "markdown",
   "id": "5aef400d-2cdb-4d71-9291-bfd89b2d7f88",
   "metadata": {},
   "source": [
    "Vamos utilizar o framework Dask para trabalhar com essas base dados e responder algumas perguntas."
   ]
  },
  {
   "cell_type": "markdown",
   "id": "40e50ded-ce44-465d-a862-98b8b9ad02ad",
   "metadata": {},
   "source": [
    "## Carregando bibliotecas"
   ]
  },
  {
   "cell_type": "code",
   "execution_count": 4,
   "id": "6b9ff2b9-424c-4b7d-bee9-5ebea5761b93",
   "metadata": {},
   "outputs": [],
   "source": [
    "import pandas as pd\n",
    "import seaborn as sns\n",
    "import matplotlib.pyplot as plt\n",
    "import dask.dataframe as dd\n",
    "from dask.distributed import Client, LocalCluster\n",
    "import gdown\n",
    "import os"
   ]
  },
  {
   "cell_type": "markdown",
   "id": "21933a53-16ea-47c4-8b64-93e6ea8f947c",
   "metadata": {},
   "source": [
    "## Download da base de dados"
   ]
  },
  {
   "cell_type": "code",
   "execution_count": 5,
   "id": "7bb09f24-b7d5-489b-96cb-ea512703634e",
   "metadata": {},
   "outputs": [],
   "source": [
    "ROOT_DATA_PATH = '../data'\n",
    "MOVIES_DATA_PATH = f'{ROOT_DATA_PATH}/movies.csv'\n",
    "RATINGS_DATA_PATH = f'{ROOT_DATA_PATH}/customers_rating.csv'"
   ]
  },
  {
   "cell_type": "code",
   "execution_count": 6,
   "id": "931a557c-81c4-4719-b581-0fb4df296bd4",
   "metadata": {},
   "outputs": [
    {
     "name": "stderr",
     "output_type": "stream",
     "text": [
      "Downloading...\n",
      "From: https://drive.google.com/uc?id=1gLsCjaMrL91ECdThq58cZAzB9tPxG18g\n",
      "To: E:\\Workspace\\jupyter-notebooks\\data\\movies.csv\n",
      "100%|██████████████████████████████████████████████████████████████████████████████████████████████████████████████████████████████| 160k/160k [00:00<00:00, 370kB/s]\n",
      "Downloading...\n",
      "From (uriginal): https://drive.google.com/uc?id=1C_T1w8fc7Oa8MeTo4LMTEcv90IfEOS-6\n",
      "From (redirected): https://drive.google.com/uc?id=1C_T1w8fc7Oa8MeTo4LMTEcv90IfEOS-6&confirm=t&uuid=6296680c-bec9-44b7-a43e-3e55774f327b\n",
      "To: E:\\Workspace\\jupyter-notebooks\\data\\customers_rating.csv\n",
      "100%|█████████████████████████████████████████████████████████████████████████████████████████████████████████████████████████████| 658M/658M [02:39<00:00, 4.13MB/s]\n"
     ]
    }
   ],
   "source": [
    "movies_url = 'https://drive.google.com/uc?id=1gLsCjaMrL91ECdThq58cZAzB9tPxG18g'\n",
    "ratings_url = 'https://drive.google.com/uc?id=1C_T1w8fc7Oa8MeTo4LMTEcv90IfEOS-6'\n",
    "\n",
    "if not os.path.exists(ROOT_DATA_PATH):\n",
    "    os.makedirs(ROOT_DATA_PATH)\n",
    "    \n",
    "if not os.path.isfile(MOVIES_DATA_PATH):\n",
    "    gdown.download(movies_url, MOVIES_DATA_PATH, quiet=False)\n",
    "\n",
    "if not os.path.isfile(RATINGS_DATA_PATH):\n",
    "    gdown.download(ratings_url, RATINGS_DATA_PATH, quiet=False)"
   ]
  },
  {
   "cell_type": "markdown",
   "id": "ee0457d6-c1b8-496b-8d73-b066e2b6bec8",
   "metadata": {},
   "source": [
    "## Criando o cluster"
   ]
  },
  {
   "cell_type": "code",
   "execution_count": 7,
   "id": "b0773d56-eaee-4640-a88d-05e612e21aa1",
   "metadata": {},
   "outputs": [
    {
     "data": {
      "text/html": [
       "<div>\n",
       "    <div style=\"width: 24px; height: 24px; background-color: #e1e1e1; border: 3px solid #9D9D9D; border-radius: 5px; position: absolute;\"> </div>\n",
       "    <div style=\"margin-left: 48px;\">\n",
       "        <h3 style=\"margin-bottom: 0px;\">Client</h3>\n",
       "        <p style=\"color: #9D9D9D; margin-bottom: 0px;\">Client-5aff3904-69dd-11ee-ae18-18c04d63e5d4</p>\n",
       "        <table style=\"width: 100%; text-align: left;\">\n",
       "\n",
       "        <tr>\n",
       "        \n",
       "            <td style=\"text-align: left;\"><strong>Connection method:</strong> Cluster object</td>\n",
       "            <td style=\"text-align: left;\"><strong>Cluster type:</strong> distributed.LocalCluster</td>\n",
       "        \n",
       "        </tr>\n",
       "\n",
       "        \n",
       "            <tr>\n",
       "                <td style=\"text-align: left;\">\n",
       "                    <strong>Dashboard: </strong> <a href=\"http://127.0.0.1:8787/status\" target=\"_blank\">http://127.0.0.1:8787/status</a>\n",
       "                </td>\n",
       "                <td style=\"text-align: left;\"></td>\n",
       "            </tr>\n",
       "        \n",
       "\n",
       "        </table>\n",
       "\n",
       "        \n",
       "            <button style=\"margin-bottom: 12px;\" data-commandlinker-command=\"dask:populate-and-launch-layout\" data-commandlinker-args='{\"url\": \"http://127.0.0.1:8787/status\" }'>\n",
       "                Launch dashboard in JupyterLab\n",
       "            </button>\n",
       "        \n",
       "\n",
       "        \n",
       "            <details>\n",
       "            <summary style=\"margin-bottom: 20px;\"><h3 style=\"display: inline;\">Cluster Info</h3></summary>\n",
       "            <div class=\"jp-RenderedHTMLCommon jp-RenderedHTML jp-mod-trusted jp-OutputArea-output\">\n",
       "    <div style=\"width: 24px; height: 24px; background-color: #e1e1e1; border: 3px solid #9D9D9D; border-radius: 5px; position: absolute;\">\n",
       "    </div>\n",
       "    <div style=\"margin-left: 48px;\">\n",
       "        <h3 style=\"margin-bottom: 0px; margin-top: 0px;\">LocalCluster</h3>\n",
       "        <p style=\"color: #9D9D9D; margin-bottom: 0px;\">3480353c</p>\n",
       "        <table style=\"width: 100%; text-align: left;\">\n",
       "            <tr>\n",
       "                <td style=\"text-align: left;\">\n",
       "                    <strong>Dashboard:</strong> <a href=\"http://127.0.0.1:8787/status\" target=\"_blank\">http://127.0.0.1:8787/status</a>\n",
       "                </td>\n",
       "                <td style=\"text-align: left;\">\n",
       "                    <strong>Workers:</strong> 4\n",
       "                </td>\n",
       "            </tr>\n",
       "            <tr>\n",
       "                <td style=\"text-align: left;\">\n",
       "                    <strong>Total threads:</strong> 12\n",
       "                </td>\n",
       "                <td style=\"text-align: left;\">\n",
       "                    <strong>Total memory:</strong> 15.87 GiB\n",
       "                </td>\n",
       "            </tr>\n",
       "            \n",
       "            <tr>\n",
       "    <td style=\"text-align: left;\"><strong>Status:</strong> running</td>\n",
       "    <td style=\"text-align: left;\"><strong>Using processes:</strong> True</td>\n",
       "</tr>\n",
       "\n",
       "            \n",
       "        </table>\n",
       "\n",
       "        <details>\n",
       "            <summary style=\"margin-bottom: 20px;\">\n",
       "                <h3 style=\"display: inline;\">Scheduler Info</h3>\n",
       "            </summary>\n",
       "\n",
       "            <div style=\"\">\n",
       "    <div>\n",
       "        <div style=\"width: 24px; height: 24px; background-color: #FFF7E5; border: 3px solid #FF6132; border-radius: 5px; position: absolute;\"> </div>\n",
       "        <div style=\"margin-left: 48px;\">\n",
       "            <h3 style=\"margin-bottom: 0px;\">Scheduler</h3>\n",
       "            <p style=\"color: #9D9D9D; margin-bottom: 0px;\">Scheduler-863aae94-3627-4554-8c85-d9212d6e795c</p>\n",
       "            <table style=\"width: 100%; text-align: left;\">\n",
       "                <tr>\n",
       "                    <td style=\"text-align: left;\">\n",
       "                        <strong>Comm:</strong> tcp://127.0.0.1:56682\n",
       "                    </td>\n",
       "                    <td style=\"text-align: left;\">\n",
       "                        <strong>Workers:</strong> 4\n",
       "                    </td>\n",
       "                </tr>\n",
       "                <tr>\n",
       "                    <td style=\"text-align: left;\">\n",
       "                        <strong>Dashboard:</strong> <a href=\"http://127.0.0.1:8787/status\" target=\"_blank\">http://127.0.0.1:8787/status</a>\n",
       "                    </td>\n",
       "                    <td style=\"text-align: left;\">\n",
       "                        <strong>Total threads:</strong> 12\n",
       "                    </td>\n",
       "                </tr>\n",
       "                <tr>\n",
       "                    <td style=\"text-align: left;\">\n",
       "                        <strong>Started:</strong> Just now\n",
       "                    </td>\n",
       "                    <td style=\"text-align: left;\">\n",
       "                        <strong>Total memory:</strong> 15.87 GiB\n",
       "                    </td>\n",
       "                </tr>\n",
       "            </table>\n",
       "        </div>\n",
       "    </div>\n",
       "\n",
       "    <details style=\"margin-left: 48px;\">\n",
       "        <summary style=\"margin-bottom: 20px;\">\n",
       "            <h3 style=\"display: inline;\">Workers</h3>\n",
       "        </summary>\n",
       "\n",
       "        \n",
       "        <div style=\"margin-bottom: 20px;\">\n",
       "            <div style=\"width: 24px; height: 24px; background-color: #DBF5FF; border: 3px solid #4CC9FF; border-radius: 5px; position: absolute;\"> </div>\n",
       "            <div style=\"margin-left: 48px;\">\n",
       "            <details>\n",
       "                <summary>\n",
       "                    <h4 style=\"margin-bottom: 0px; display: inline;\">Worker: 0</h4>\n",
       "                </summary>\n",
       "                <table style=\"width: 100%; text-align: left;\">\n",
       "                    <tr>\n",
       "                        <td style=\"text-align: left;\">\n",
       "                            <strong>Comm: </strong> tcp://127.0.0.1:56704\n",
       "                        </td>\n",
       "                        <td style=\"text-align: left;\">\n",
       "                            <strong>Total threads: </strong> 3\n",
       "                        </td>\n",
       "                    </tr>\n",
       "                    <tr>\n",
       "                        <td style=\"text-align: left;\">\n",
       "                            <strong>Dashboard: </strong> <a href=\"http://127.0.0.1:56706/status\" target=\"_blank\">http://127.0.0.1:56706/status</a>\n",
       "                        </td>\n",
       "                        <td style=\"text-align: left;\">\n",
       "                            <strong>Memory: </strong> 3.97 GiB\n",
       "                        </td>\n",
       "                    </tr>\n",
       "                    <tr>\n",
       "                        <td style=\"text-align: left;\">\n",
       "                            <strong>Nanny: </strong> tcp://127.0.0.1:56685\n",
       "                        </td>\n",
       "                        <td style=\"text-align: left;\"></td>\n",
       "                    </tr>\n",
       "                    <tr>\n",
       "                        <td colspan=\"2\" style=\"text-align: left;\">\n",
       "                            <strong>Local directory: </strong> C:\\Users\\edmil\\AppData\\Local\\Temp\\dask-scratch-space\\worker-3rdjhh0f\n",
       "                        </td>\n",
       "                    </tr>\n",
       "\n",
       "                    \n",
       "\n",
       "                    \n",
       "\n",
       "                </table>\n",
       "            </details>\n",
       "            </div>\n",
       "        </div>\n",
       "        \n",
       "        <div style=\"margin-bottom: 20px;\">\n",
       "            <div style=\"width: 24px; height: 24px; background-color: #DBF5FF; border: 3px solid #4CC9FF; border-radius: 5px; position: absolute;\"> </div>\n",
       "            <div style=\"margin-left: 48px;\">\n",
       "            <details>\n",
       "                <summary>\n",
       "                    <h4 style=\"margin-bottom: 0px; display: inline;\">Worker: 1</h4>\n",
       "                </summary>\n",
       "                <table style=\"width: 100%; text-align: left;\">\n",
       "                    <tr>\n",
       "                        <td style=\"text-align: left;\">\n",
       "                            <strong>Comm: </strong> tcp://127.0.0.1:56701\n",
       "                        </td>\n",
       "                        <td style=\"text-align: left;\">\n",
       "                            <strong>Total threads: </strong> 3\n",
       "                        </td>\n",
       "                    </tr>\n",
       "                    <tr>\n",
       "                        <td style=\"text-align: left;\">\n",
       "                            <strong>Dashboard: </strong> <a href=\"http://127.0.0.1:56702/status\" target=\"_blank\">http://127.0.0.1:56702/status</a>\n",
       "                        </td>\n",
       "                        <td style=\"text-align: left;\">\n",
       "                            <strong>Memory: </strong> 3.97 GiB\n",
       "                        </td>\n",
       "                    </tr>\n",
       "                    <tr>\n",
       "                        <td style=\"text-align: left;\">\n",
       "                            <strong>Nanny: </strong> tcp://127.0.0.1:56687\n",
       "                        </td>\n",
       "                        <td style=\"text-align: left;\"></td>\n",
       "                    </tr>\n",
       "                    <tr>\n",
       "                        <td colspan=\"2\" style=\"text-align: left;\">\n",
       "                            <strong>Local directory: </strong> C:\\Users\\edmil\\AppData\\Local\\Temp\\dask-scratch-space\\worker-6z4iw00l\n",
       "                        </td>\n",
       "                    </tr>\n",
       "\n",
       "                    \n",
       "\n",
       "                    \n",
       "\n",
       "                </table>\n",
       "            </details>\n",
       "            </div>\n",
       "        </div>\n",
       "        \n",
       "        <div style=\"margin-bottom: 20px;\">\n",
       "            <div style=\"width: 24px; height: 24px; background-color: #DBF5FF; border: 3px solid #4CC9FF; border-radius: 5px; position: absolute;\"> </div>\n",
       "            <div style=\"margin-left: 48px;\">\n",
       "            <details>\n",
       "                <summary>\n",
       "                    <h4 style=\"margin-bottom: 0px; display: inline;\">Worker: 2</h4>\n",
       "                </summary>\n",
       "                <table style=\"width: 100%; text-align: left;\">\n",
       "                    <tr>\n",
       "                        <td style=\"text-align: left;\">\n",
       "                            <strong>Comm: </strong> tcp://127.0.0.1:56705\n",
       "                        </td>\n",
       "                        <td style=\"text-align: left;\">\n",
       "                            <strong>Total threads: </strong> 3\n",
       "                        </td>\n",
       "                    </tr>\n",
       "                    <tr>\n",
       "                        <td style=\"text-align: left;\">\n",
       "                            <strong>Dashboard: </strong> <a href=\"http://127.0.0.1:56708/status\" target=\"_blank\">http://127.0.0.1:56708/status</a>\n",
       "                        </td>\n",
       "                        <td style=\"text-align: left;\">\n",
       "                            <strong>Memory: </strong> 3.97 GiB\n",
       "                        </td>\n",
       "                    </tr>\n",
       "                    <tr>\n",
       "                        <td style=\"text-align: left;\">\n",
       "                            <strong>Nanny: </strong> tcp://127.0.0.1:56689\n",
       "                        </td>\n",
       "                        <td style=\"text-align: left;\"></td>\n",
       "                    </tr>\n",
       "                    <tr>\n",
       "                        <td colspan=\"2\" style=\"text-align: left;\">\n",
       "                            <strong>Local directory: </strong> C:\\Users\\edmil\\AppData\\Local\\Temp\\dask-scratch-space\\worker-x1xcqom4\n",
       "                        </td>\n",
       "                    </tr>\n",
       "\n",
       "                    \n",
       "\n",
       "                    \n",
       "\n",
       "                </table>\n",
       "            </details>\n",
       "            </div>\n",
       "        </div>\n",
       "        \n",
       "        <div style=\"margin-bottom: 20px;\">\n",
       "            <div style=\"width: 24px; height: 24px; background-color: #DBF5FF; border: 3px solid #4CC9FF; border-radius: 5px; position: absolute;\"> </div>\n",
       "            <div style=\"margin-left: 48px;\">\n",
       "            <details>\n",
       "                <summary>\n",
       "                    <h4 style=\"margin-bottom: 0px; display: inline;\">Worker: 3</h4>\n",
       "                </summary>\n",
       "                <table style=\"width: 100%; text-align: left;\">\n",
       "                    <tr>\n",
       "                        <td style=\"text-align: left;\">\n",
       "                            <strong>Comm: </strong> tcp://127.0.0.1:56710\n",
       "                        </td>\n",
       "                        <td style=\"text-align: left;\">\n",
       "                            <strong>Total threads: </strong> 3\n",
       "                        </td>\n",
       "                    </tr>\n",
       "                    <tr>\n",
       "                        <td style=\"text-align: left;\">\n",
       "                            <strong>Dashboard: </strong> <a href=\"http://127.0.0.1:56711/status\" target=\"_blank\">http://127.0.0.1:56711/status</a>\n",
       "                        </td>\n",
       "                        <td style=\"text-align: left;\">\n",
       "                            <strong>Memory: </strong> 3.97 GiB\n",
       "                        </td>\n",
       "                    </tr>\n",
       "                    <tr>\n",
       "                        <td style=\"text-align: left;\">\n",
       "                            <strong>Nanny: </strong> tcp://127.0.0.1:56691\n",
       "                        </td>\n",
       "                        <td style=\"text-align: left;\"></td>\n",
       "                    </tr>\n",
       "                    <tr>\n",
       "                        <td colspan=\"2\" style=\"text-align: left;\">\n",
       "                            <strong>Local directory: </strong> C:\\Users\\edmil\\AppData\\Local\\Temp\\dask-scratch-space\\worker-zonmyzap\n",
       "                        </td>\n",
       "                    </tr>\n",
       "\n",
       "                    \n",
       "\n",
       "                    \n",
       "\n",
       "                </table>\n",
       "            </details>\n",
       "            </div>\n",
       "        </div>\n",
       "        \n",
       "\n",
       "    </details>\n",
       "</div>\n",
       "\n",
       "        </details>\n",
       "    </div>\n",
       "</div>\n",
       "            </details>\n",
       "        \n",
       "\n",
       "    </div>\n",
       "</div>"
      ],
      "text/plain": [
       "<Client: 'tcp://127.0.0.1:56682' processes=4 threads=12, memory=15.87 GiB>"
      ]
     },
     "execution_count": 7,
     "metadata": {},
     "output_type": "execute_result"
    }
   ],
   "source": [
    "cluster = LocalCluster()\n",
    "client = Client(cluster)\n",
    "client"
   ]
  },
  {
   "cell_type": "markdown",
   "id": "c7c4012f-307b-4d09-a243-92703e468e9b",
   "metadata": {},
   "source": [
    "## Leitura e limpeza dos dados"
   ]
  },
  {
   "cell_type": "markdown",
   "id": "c6be0d88-db62-406e-b282-104314e06352",
   "metadata": {},
   "source": [
    "### Movies dataset (movies_df)"
   ]
  },
  {
   "cell_type": "code",
   "execution_count": 8,
   "id": "351547f2-7647-48bc-a41f-ab76ef429e6e",
   "metadata": {},
   "outputs": [
    {
     "data": {
      "text/plain": [
       "['movie_id', 'movie_title']"
      ]
     },
     "execution_count": 8,
     "metadata": {},
     "output_type": "execute_result"
    }
   ],
   "source": [
    "movies_columns = ['movie_id', 'movie_title']\n",
    "movies_columns"
   ]
  },
  {
   "cell_type": "code",
   "execution_count": 9,
   "id": "3f0fc76b-aaeb-4860-9897-877423f10e60",
   "metadata": {},
   "outputs": [
    {
     "data": {
      "text/html": [
       "<div><strong>Dask DataFrame Structure:</strong></div>\n",
       "<div>\n",
       "<style scoped>\n",
       "    .dataframe tbody tr th:only-of-type {\n",
       "        vertical-align: middle;\n",
       "    }\n",
       "\n",
       "    .dataframe tbody tr th {\n",
       "        vertical-align: top;\n",
       "    }\n",
       "\n",
       "    .dataframe thead th {\n",
       "        text-align: right;\n",
       "    }\n",
       "</style>\n",
       "<table border=\"1\" class=\"dataframe\">\n",
       "  <thead>\n",
       "    <tr style=\"text-align: right;\">\n",
       "      <th></th>\n",
       "      <th>movie_id</th>\n",
       "      <th>movie_title</th>\n",
       "    </tr>\n",
       "    <tr>\n",
       "      <th>npartitions=1</th>\n",
       "      <th></th>\n",
       "      <th></th>\n",
       "    </tr>\n",
       "  </thead>\n",
       "  <tbody>\n",
       "    <tr>\n",
       "      <th></th>\n",
       "      <td>int64</td>\n",
       "      <td>string</td>\n",
       "    </tr>\n",
       "    <tr>\n",
       "      <th></th>\n",
       "      <td>...</td>\n",
       "      <td>...</td>\n",
       "    </tr>\n",
       "  </tbody>\n",
       "</table>\n",
       "</div>\n",
       "<div>Dask Name: to_pyarrow_string, 2 graph layers</div>"
      ],
      "text/plain": [
       "Dask DataFrame Structure:\n",
       "              movie_id movie_title\n",
       "npartitions=1                     \n",
       "                 int64      string\n",
       "                   ...         ...\n",
       "Dask Name: to_pyarrow_string, 2 graph layers"
      ]
     },
     "execution_count": 9,
     "metadata": {},
     "output_type": "execute_result"
    }
   ],
   "source": [
    "movies_df = dd.read_csv(MOVIES_DATA_PATH, delimiter=';', names=movies_columns)\n",
    "movies_df"
   ]
  },
  {
   "cell_type": "code",
   "execution_count": 10,
   "id": "1e2681c7-31c6-43fc-be72-f7739c7b39f6",
   "metadata": {},
   "outputs": [
    {
     "data": {
      "text/html": [
       "<div>\n",
       "<style scoped>\n",
       "    .dataframe tbody tr th:only-of-type {\n",
       "        vertical-align: middle;\n",
       "    }\n",
       "\n",
       "    .dataframe tbody tr th {\n",
       "        vertical-align: top;\n",
       "    }\n",
       "\n",
       "    .dataframe thead th {\n",
       "        text-align: right;\n",
       "    }\n",
       "</style>\n",
       "<table border=\"1\" class=\"dataframe\">\n",
       "  <thead>\n",
       "    <tr style=\"text-align: right;\">\n",
       "      <th></th>\n",
       "      <th>movie_id</th>\n",
       "      <th>movie_title</th>\n",
       "    </tr>\n",
       "  </thead>\n",
       "  <tbody>\n",
       "    <tr>\n",
       "      <th>0</th>\n",
       "      <td>1</td>\n",
       "      <td>(Dinosaur Planet, 2003)</td>\n",
       "    </tr>\n",
       "    <tr>\n",
       "      <th>1</th>\n",
       "      <td>2</td>\n",
       "      <td>(Isle of Man TT 2004 Review, 2004)</td>\n",
       "    </tr>\n",
       "    <tr>\n",
       "      <th>2</th>\n",
       "      <td>3</td>\n",
       "      <td>(Character, 1997)</td>\n",
       "    </tr>\n",
       "    <tr>\n",
       "      <th>3</th>\n",
       "      <td>4</td>\n",
       "      <td>(Paula Abdul's Get Up &amp; Dance, 1994)</td>\n",
       "    </tr>\n",
       "    <tr>\n",
       "      <th>4</th>\n",
       "      <td>5</td>\n",
       "      <td>(The Rise and Fall of ECW, 2004)</td>\n",
       "    </tr>\n",
       "  </tbody>\n",
       "</table>\n",
       "</div>"
      ],
      "text/plain": [
       "   movie_id                           movie_title\n",
       "0         1               (Dinosaur Planet, 2003)\n",
       "1         2    (Isle of Man TT 2004 Review, 2004)\n",
       "2         3                     (Character, 1997)\n",
       "3         4  (Paula Abdul's Get Up & Dance, 1994)\n",
       "4         5      (The Rise and Fall of ECW, 2004)"
      ]
     },
     "execution_count": 10,
     "metadata": {},
     "output_type": "execute_result"
    }
   ],
   "source": [
    "movies_df.head()"
   ]
  },
  {
   "cell_type": "markdown",
   "id": "05424c01-8e79-4813-b8c9-b086daa7968c",
   "metadata": {},
   "source": [
    "Verificando tamanho e tipo de dados do dataset."
   ]
  },
  {
   "cell_type": "code",
   "execution_count": 11,
   "id": "1278f929-6169-4a85-8d84-f8a3c04ad0df",
   "metadata": {},
   "outputs": [
    {
     "name": "stdout",
     "output_type": "stream",
     "text": [
      "movie_id                 int64\n",
      "movie_title    string[pyarrow]\n",
      "dtype: object\n"
     ]
    }
   ],
   "source": [
    "print(movies_df.dtypes)"
   ]
  },
  {
   "cell_type": "code",
   "execution_count": 12,
   "id": "09d034e2-4b10-46c2-8141-731b278411a3",
   "metadata": {},
   "outputs": [
    {
     "name": "stdout",
     "output_type": "stream",
     "text": [
      "movie_id       4499\n",
      "movie_title    4499\n",
      "dtype: int64\n"
     ]
    }
   ],
   "source": [
    "print(movies_df.count().compute())"
   ]
  },
  {
   "cell_type": "markdown",
   "id": "7dd631b7-3349-4fb3-818d-bc3602178276",
   "metadata": {},
   "source": [
    "Removendo parenteses de `movie_title` para fazer o split do título e ano do filme."
   ]
  },
  {
   "cell_type": "code",
   "execution_count": 13,
   "id": "38a04ea3-e167-4af6-b642-5f614883a7be",
   "metadata": {},
   "outputs": [
    {
     "data": {
      "text/html": [
       "<div><strong>Dask DataFrame Structure:</strong></div>\n",
       "<div>\n",
       "<style scoped>\n",
       "    .dataframe tbody tr th:only-of-type {\n",
       "        vertical-align: middle;\n",
       "    }\n",
       "\n",
       "    .dataframe tbody tr th {\n",
       "        vertical-align: top;\n",
       "    }\n",
       "\n",
       "    .dataframe thead th {\n",
       "        text-align: right;\n",
       "    }\n",
       "</style>\n",
       "<table border=\"1\" class=\"dataframe\">\n",
       "  <thead>\n",
       "    <tr style=\"text-align: right;\">\n",
       "      <th></th>\n",
       "      <th>movie_id</th>\n",
       "      <th>movie_title</th>\n",
       "    </tr>\n",
       "    <tr>\n",
       "      <th>npartitions=1</th>\n",
       "      <th></th>\n",
       "      <th></th>\n",
       "    </tr>\n",
       "  </thead>\n",
       "  <tbody>\n",
       "    <tr>\n",
       "      <th></th>\n",
       "      <td>int64</td>\n",
       "      <td>string</td>\n",
       "    </tr>\n",
       "    <tr>\n",
       "      <th></th>\n",
       "      <td>...</td>\n",
       "      <td>...</td>\n",
       "    </tr>\n",
       "  </tbody>\n",
       "</table>\n",
       "</div>\n",
       "<div>Dask Name: assign, 5 graph layers</div>"
      ],
      "text/plain": [
       "Dask DataFrame Structure:\n",
       "              movie_id movie_title\n",
       "npartitions=1                     \n",
       "                 int64      string\n",
       "                   ...         ...\n",
       "Dask Name: assign, 5 graph layers"
      ]
     },
     "execution_count": 13,
     "metadata": {},
     "output_type": "execute_result"
    }
   ],
   "source": [
    "movies_df['movie_title'] = movies_df['movie_title'].str.replace('\\(|\\)', '', regex=True)\n",
    "movies_df"
   ]
  },
  {
   "cell_type": "markdown",
   "id": "c2f88586-8a15-41a9-ae63-46c1d04a1990",
   "metadata": {},
   "source": [
    "Fazendo split do título e ano em colunas separadas (para facilitar em futuras consultas)."
   ]
  },
  {
   "cell_type": "code",
   "execution_count": 14,
   "id": "6fb1b7cf-8f99-46e1-81a9-0d42923e5d89",
   "metadata": {},
   "outputs": [
    {
     "data": {
      "text/html": [
       "<div><strong>Dask DataFrame Structure:</strong></div>\n",
       "<div>\n",
       "<style scoped>\n",
       "    .dataframe tbody tr th:only-of-type {\n",
       "        vertical-align: middle;\n",
       "    }\n",
       "\n",
       "    .dataframe tbody tr th {\n",
       "        vertical-align: top;\n",
       "    }\n",
       "\n",
       "    .dataframe thead th {\n",
       "        text-align: right;\n",
       "    }\n",
       "</style>\n",
       "<table border=\"1\" class=\"dataframe\">\n",
       "  <thead>\n",
       "    <tr style=\"text-align: right;\">\n",
       "      <th></th>\n",
       "      <th>movie_id</th>\n",
       "      <th>title</th>\n",
       "      <th>year</th>\n",
       "    </tr>\n",
       "    <tr>\n",
       "      <th>npartitions=1</th>\n",
       "      <th></th>\n",
       "      <th></th>\n",
       "      <th></th>\n",
       "    </tr>\n",
       "  </thead>\n",
       "  <tbody>\n",
       "    <tr>\n",
       "      <th></th>\n",
       "      <td>int64</td>\n",
       "      <td>string</td>\n",
       "      <td>string</td>\n",
       "    </tr>\n",
       "    <tr>\n",
       "      <th></th>\n",
       "      <td>...</td>\n",
       "      <td>...</td>\n",
       "      <td>...</td>\n",
       "    </tr>\n",
       "  </tbody>\n",
       "</table>\n",
       "</div>\n",
       "<div>Dask Name: drop_by_shallow_copy, 14 graph layers</div>"
      ],
      "text/plain": [
       "Dask DataFrame Structure:\n",
       "              movie_id   title    year\n",
       "npartitions=1                         \n",
       "                 int64  string  string\n",
       "                   ...     ...     ...\n",
       "Dask Name: drop_by_shallow_copy, 14 graph layers"
      ]
     },
     "execution_count": 14,
     "metadata": {},
     "output_type": "execute_result"
    }
   ],
   "source": [
    "movies_df['title'] = movies_df['movie_title'].str.partition(', ')[0]\n",
    "movies_df['year'] = movies_df['movie_title'].str.partition(', ')[2]\n",
    "movies_df = movies_df.drop(columns='movie_title')\n",
    "movies_df"
   ]
  },
  {
   "cell_type": "code",
   "execution_count": 15,
   "id": "ed264e5b-0742-4c52-8efd-9598e4d5de3b",
   "metadata": {},
   "outputs": [
    {
     "data": {
      "text/html": [
       "<div>\n",
       "<style scoped>\n",
       "    .dataframe tbody tr th:only-of-type {\n",
       "        vertical-align: middle;\n",
       "    }\n",
       "\n",
       "    .dataframe tbody tr th {\n",
       "        vertical-align: top;\n",
       "    }\n",
       "\n",
       "    .dataframe thead th {\n",
       "        text-align: right;\n",
       "    }\n",
       "</style>\n",
       "<table border=\"1\" class=\"dataframe\">\n",
       "  <thead>\n",
       "    <tr style=\"text-align: right;\">\n",
       "      <th></th>\n",
       "      <th>movie_id</th>\n",
       "      <th>title</th>\n",
       "      <th>year</th>\n",
       "    </tr>\n",
       "  </thead>\n",
       "  <tbody>\n",
       "    <tr>\n",
       "      <th>0</th>\n",
       "      <td>1</td>\n",
       "      <td>Dinosaur Planet</td>\n",
       "      <td>2003</td>\n",
       "    </tr>\n",
       "    <tr>\n",
       "      <th>1</th>\n",
       "      <td>2</td>\n",
       "      <td>Isle of Man TT 2004 Review</td>\n",
       "      <td>2004</td>\n",
       "    </tr>\n",
       "    <tr>\n",
       "      <th>2</th>\n",
       "      <td>3</td>\n",
       "      <td>Character</td>\n",
       "      <td>1997</td>\n",
       "    </tr>\n",
       "    <tr>\n",
       "      <th>3</th>\n",
       "      <td>4</td>\n",
       "      <td>Paula Abdul's Get Up &amp; Dance</td>\n",
       "      <td>1994</td>\n",
       "    </tr>\n",
       "    <tr>\n",
       "      <th>4</th>\n",
       "      <td>5</td>\n",
       "      <td>The Rise and Fall of ECW</td>\n",
       "      <td>2004</td>\n",
       "    </tr>\n",
       "  </tbody>\n",
       "</table>\n",
       "</div>"
      ],
      "text/plain": [
       "   movie_id                         title  year\n",
       "0         1               Dinosaur Planet  2003\n",
       "1         2    Isle of Man TT 2004 Review  2004\n",
       "2         3                     Character  1997\n",
       "3         4  Paula Abdul's Get Up & Dance  1994\n",
       "4         5      The Rise and Fall of ECW  2004"
      ]
     },
     "execution_count": 15,
     "metadata": {},
     "output_type": "execute_result"
    }
   ],
   "source": [
    "movies_df.head()"
   ]
  },
  {
   "cell_type": "code",
   "execution_count": 16,
   "id": "f5bf03cb-bc35-4f97-92c4-2bc1f09215ab",
   "metadata": {},
   "outputs": [],
   "source": [
    "# validando split da coluna movie_title\n",
    "assert(len(movies_df[(movies_df['title'] == 'Dinosaur Planet') & (movies_df['year'] == '2003')]) == 1)"
   ]
  },
  {
   "cell_type": "markdown",
   "id": "43d3dafa-54e9-4ec4-bd24-2701fda98ec0",
   "metadata": {},
   "source": [
    "Verificando valores NA em `movies_df`."
   ]
  },
  {
   "cell_type": "code",
   "execution_count": 17,
   "id": "b3b7cc64-be04-4d28-b60c-ca40b449f138",
   "metadata": {},
   "outputs": [
    {
     "data": {
      "text/plain": [
       "<Figure size 1000x600 with 0 Axes>"
      ]
     },
     "metadata": {},
     "output_type": "display_data"
    },
    {
     "data": {
      "image/png": "[encoded data removed]",
      "text/plain": [
       "<Figure size 709.875x500 with 1 Axes>"
      ]
     },
     "metadata": {},
     "output_type": "display_data"
    }
   ],
   "source": [
    "plt.figure(figsize=(10,6))\n",
    "sns.displot(\n",
    "    data=movies_df.isna().melt(value_name=\"missing\").compute(),\n",
    "    y=\"variable\",\n",
    "    hue=\"missing\",\n",
    "    multiple=\"fill\",\n",
    "    aspect=1.25\n",
    ")\n",
    "plt.show()"
   ]
  },
  {
   "cell_type": "markdown",
   "id": "fa54aa8e-46dc-484b-b674-edeedd8f2368",
   "metadata": {},
   "source": [
    "Utilizando o `movie_id` como index (para utilizar posteriormente em joins com outras fontes de dados)."
   ]
  },
  {
   "cell_type": "code",
   "execution_count": 18,
   "id": "122ddda2-dfee-42c7-888a-dc97ce1f6568",
   "metadata": {},
   "outputs": [
    {
     "data": {
      "text/html": [
       "<div><strong>Dask DataFrame Structure:</strong></div>\n",
       "<div>\n",
       "<style scoped>\n",
       "    .dataframe tbody tr th:only-of-type {\n",
       "        vertical-align: middle;\n",
       "    }\n",
       "\n",
       "    .dataframe tbody tr th {\n",
       "        vertical-align: top;\n",
       "    }\n",
       "\n",
       "    .dataframe thead th {\n",
       "        text-align: right;\n",
       "    }\n",
       "</style>\n",
       "<table border=\"1\" class=\"dataframe\">\n",
       "  <thead>\n",
       "    <tr style=\"text-align: right;\">\n",
       "      <th></th>\n",
       "      <th>title</th>\n",
       "      <th>year</th>\n",
       "    </tr>\n",
       "    <tr>\n",
       "      <th>npartitions=1</th>\n",
       "      <th></th>\n",
       "      <th></th>\n",
       "    </tr>\n",
       "  </thead>\n",
       "  <tbody>\n",
       "    <tr>\n",
       "      <th>1</th>\n",
       "      <td>string</td>\n",
       "      <td>string</td>\n",
       "    </tr>\n",
       "    <tr>\n",
       "      <th>4499</th>\n",
       "      <td>...</td>\n",
       "      <td>...</td>\n",
       "    </tr>\n",
       "  </tbody>\n",
       "</table>\n",
       "</div>\n",
       "<div>Dask Name: sort_index, 1 graph layer</div>"
      ],
      "text/plain": [
       "Dask DataFrame Structure:\n",
       "                title    year\n",
       "npartitions=1                \n",
       "1              string  string\n",
       "4499              ...     ...\n",
       "Dask Name: sort_index, 1 graph layer"
      ]
     },
     "execution_count": 18,
     "metadata": {},
     "output_type": "execute_result"
    }
   ],
   "source": [
    "movies_df = movies_df.set_index('movie_id').persist()\n",
    "movies_df"
   ]
  },
  {
   "cell_type": "code",
   "execution_count": 19,
   "id": "23f6e772-2c31-436f-90ee-e13e10f5086b",
   "metadata": {},
   "outputs": [
    {
     "data": {
      "text/html": [
       "<div>\n",
       "<style scoped>\n",
       "    .dataframe tbody tr th:only-of-type {\n",
       "        vertical-align: middle;\n",
       "    }\n",
       "\n",
       "    .dataframe tbody tr th {\n",
       "        vertical-align: top;\n",
       "    }\n",
       "\n",
       "    .dataframe thead th {\n",
       "        text-align: right;\n",
       "    }\n",
       "</style>\n",
       "<table border=\"1\" class=\"dataframe\">\n",
       "  <thead>\n",
       "    <tr style=\"text-align: right;\">\n",
       "      <th></th>\n",
       "      <th>title</th>\n",
       "      <th>year</th>\n",
       "    </tr>\n",
       "    <tr>\n",
       "      <th>movie_id</th>\n",
       "      <th></th>\n",
       "      <th></th>\n",
       "    </tr>\n",
       "  </thead>\n",
       "  <tbody>\n",
       "    <tr>\n",
       "      <th>1</th>\n",
       "      <td>Dinosaur Planet</td>\n",
       "      <td>2003</td>\n",
       "    </tr>\n",
       "    <tr>\n",
       "      <th>2</th>\n",
       "      <td>Isle of Man TT 2004 Review</td>\n",
       "      <td>2004</td>\n",
       "    </tr>\n",
       "    <tr>\n",
       "      <th>3</th>\n",
       "      <td>Character</td>\n",
       "      <td>1997</td>\n",
       "    </tr>\n",
       "    <tr>\n",
       "      <th>4</th>\n",
       "      <td>Paula Abdul's Get Up &amp; Dance</td>\n",
       "      <td>1994</td>\n",
       "    </tr>\n",
       "    <tr>\n",
       "      <th>5</th>\n",
       "      <td>The Rise and Fall of ECW</td>\n",
       "      <td>2004</td>\n",
       "    </tr>\n",
       "  </tbody>\n",
       "</table>\n",
       "</div>"
      ],
      "text/plain": [
       "                                 title  year\n",
       "movie_id                                    \n",
       "1                      Dinosaur Planet  2003\n",
       "2           Isle of Man TT 2004 Review  2004\n",
       "3                            Character  1997\n",
       "4         Paula Abdul's Get Up & Dance  1994\n",
       "5             The Rise and Fall of ECW  2004"
      ]
     },
     "execution_count": 19,
     "metadata": {},
     "output_type": "execute_result"
    }
   ],
   "source": [
    "movies_df.head()"
   ]
  },
  {
   "cell_type": "markdown",
   "id": "3b22e815-5f69-4549-a2e2-e5ff5692f36e",
   "metadata": {},
   "source": [
    "### Ratings Dataset (ratings_df)"
   ]
  },
  {
   "cell_type": "code",
   "execution_count": 20,
   "id": "f640ae1f-ef1b-425e-bcb8-3ec3a893d724",
   "metadata": {},
   "outputs": [
    {
     "data": {
      "text/plain": [
       "['customer_id', 'rating', 'date', 'movie_id']"
      ]
     },
     "execution_count": 20,
     "metadata": {},
     "output_type": "execute_result"
    }
   ],
   "source": [
    "ratings_columns = ['customer_id', 'rating', 'date', 'movie_id']\n",
    "ratings_columns"
   ]
  },
  {
   "cell_type": "code",
   "execution_count": 21,
   "id": "3ca00eaf-c269-40fe-ad71-2974a7dcec55",
   "metadata": {},
   "outputs": [
    {
     "data": {
      "text/html": [
       "<div><strong>Dask DataFrame Structure:</strong></div>\n",
       "<div>\n",
       "<style scoped>\n",
       "    .dataframe tbody tr th:only-of-type {\n",
       "        vertical-align: middle;\n",
       "    }\n",
       "\n",
       "    .dataframe tbody tr th {\n",
       "        vertical-align: top;\n",
       "    }\n",
       "\n",
       "    .dataframe thead th {\n",
       "        text-align: right;\n",
       "    }\n",
       "</style>\n",
       "<table border=\"1\" class=\"dataframe\">\n",
       "  <thead>\n",
       "    <tr style=\"text-align: right;\">\n",
       "      <th></th>\n",
       "      <th>customer_id</th>\n",
       "      <th>rating</th>\n",
       "      <th>date</th>\n",
       "      <th>movie_id</th>\n",
       "    </tr>\n",
       "    <tr>\n",
       "      <th>npartitions=10</th>\n",
       "      <th></th>\n",
       "      <th></th>\n",
       "      <th></th>\n",
       "      <th></th>\n",
       "    </tr>\n",
       "  </thead>\n",
       "  <tbody>\n",
       "    <tr>\n",
       "      <th></th>\n",
       "      <td>int64</td>\n",
       "      <td>float64</td>\n",
       "      <td>string</td>\n",
       "      <td>int64</td>\n",
       "    </tr>\n",
       "    <tr>\n",
       "      <th></th>\n",
       "      <td>...</td>\n",
       "      <td>...</td>\n",
       "      <td>...</td>\n",
       "      <td>...</td>\n",
       "    </tr>\n",
       "    <tr>\n",
       "      <th>...</th>\n",
       "      <td>...</td>\n",
       "      <td>...</td>\n",
       "      <td>...</td>\n",
       "      <td>...</td>\n",
       "    </tr>\n",
       "    <tr>\n",
       "      <th></th>\n",
       "      <td>...</td>\n",
       "      <td>...</td>\n",
       "      <td>...</td>\n",
       "      <td>...</td>\n",
       "    </tr>\n",
       "    <tr>\n",
       "      <th></th>\n",
       "      <td>...</td>\n",
       "      <td>...</td>\n",
       "      <td>...</td>\n",
       "      <td>...</td>\n",
       "    </tr>\n",
       "  </tbody>\n",
       "</table>\n",
       "</div>\n",
       "<div>Dask Name: rename, 3 graph layers</div>"
      ],
      "text/plain": [
       "Dask DataFrame Structure:\n",
       "               customer_id   rating    date movie_id\n",
       "npartitions=10                                      \n",
       "                     int64  float64  string    int64\n",
       "                       ...      ...     ...      ...\n",
       "...                    ...      ...     ...      ...\n",
       "                       ...      ...     ...      ...\n",
       "                       ...      ...     ...      ...\n",
       "Dask Name: rename, 3 graph layers"
      ]
     },
     "execution_count": 21,
     "metadata": {},
     "output_type": "execute_result"
    }
   ],
   "source": [
    "ratings_df = dd.read_csv(RATINGS_DATA_PATH, delimiter=';')\n",
    "ratings_df.columns = ratings_columns\n",
    "ratings_df"
   ]
  },
  {
   "cell_type": "code",
   "execution_count": 22,
   "id": "cfc3e6c8-4b78-4ef3-ba12-30f55753455a",
   "metadata": {},
   "outputs": [
    {
     "data": {
      "text/html": [
       "<div>\n",
       "<style scoped>\n",
       "    .dataframe tbody tr th:only-of-type {\n",
       "        vertical-align: middle;\n",
       "    }\n",
       "\n",
       "    .dataframe tbody tr th {\n",
       "        vertical-align: top;\n",
       "    }\n",
       "\n",
       "    .dataframe thead th {\n",
       "        text-align: right;\n",
       "    }\n",
       "</style>\n",
       "<table border=\"1\" class=\"dataframe\">\n",
       "  <thead>\n",
       "    <tr style=\"text-align: right;\">\n",
       "      <th></th>\n",
       "      <th>customer_id</th>\n",
       "      <th>rating</th>\n",
       "      <th>date</th>\n",
       "      <th>movie_id</th>\n",
       "    </tr>\n",
       "  </thead>\n",
       "  <tbody>\n",
       "    <tr>\n",
       "      <th>0</th>\n",
       "      <td>1488844</td>\n",
       "      <td>3.0</td>\n",
       "      <td>2005-09-06</td>\n",
       "      <td>1</td>\n",
       "    </tr>\n",
       "    <tr>\n",
       "      <th>1</th>\n",
       "      <td>822109</td>\n",
       "      <td>5.0</td>\n",
       "      <td>2005-05-13</td>\n",
       "      <td>1</td>\n",
       "    </tr>\n",
       "    <tr>\n",
       "      <th>2</th>\n",
       "      <td>885013</td>\n",
       "      <td>4.0</td>\n",
       "      <td>2005-10-19</td>\n",
       "      <td>1</td>\n",
       "    </tr>\n",
       "    <tr>\n",
       "      <th>3</th>\n",
       "      <td>30878</td>\n",
       "      <td>4.0</td>\n",
       "      <td>2005-12-26</td>\n",
       "      <td>1</td>\n",
       "    </tr>\n",
       "    <tr>\n",
       "      <th>4</th>\n",
       "      <td>823519</td>\n",
       "      <td>3.0</td>\n",
       "      <td>2004-05-03</td>\n",
       "      <td>1</td>\n",
       "    </tr>\n",
       "  </tbody>\n",
       "</table>\n",
       "</div>"
      ],
      "text/plain": [
       "   customer_id  rating        date  movie_id\n",
       "0      1488844     3.0  2005-09-06         1\n",
       "1       822109     5.0  2005-05-13         1\n",
       "2       885013     4.0  2005-10-19         1\n",
       "3        30878     4.0  2005-12-26         1\n",
       "4       823519     3.0  2004-05-03         1"
      ]
     },
     "execution_count": 22,
     "metadata": {},
     "output_type": "execute_result"
    }
   ],
   "source": [
    "ratings_df.head()"
   ]
  },
  {
   "cell_type": "markdown",
   "id": "5b4ccc18-e6ad-4c35-bd5f-7ca29bed28fd",
   "metadata": {},
   "source": [
    "Verificando tamanho e tipo de dados de `ratings_df`."
   ]
  },
  {
   "cell_type": "code",
   "execution_count": 23,
   "id": "240ff267-66c9-4ca0-bbdf-5377e8b27a1b",
   "metadata": {},
   "outputs": [
    {
     "name": "stdout",
     "output_type": "stream",
     "text": [
      "customer_id              int64\n",
      "rating                 float64\n",
      "date           string[pyarrow]\n",
      "movie_id                 int64\n",
      "dtype: object\n"
     ]
    }
   ],
   "source": [
    "print(ratings_df.dtypes)"
   ]
  },
  {
   "cell_type": "code",
   "execution_count": 24,
   "id": "345d8191-83c5-43ab-89b9-6ff589ffcb1b",
   "metadata": {},
   "outputs": [
    {
     "name": "stdout",
     "output_type": "stream",
     "text": [
      "customer_id    24053764\n",
      "rating         24053764\n",
      "date           24053764\n",
      "movie_id       24053764\n",
      "dtype: int64\n"
     ]
    }
   ],
   "source": [
    "print(ratings_df.count().compute())"
   ]
  },
  {
   "cell_type": "markdown",
   "id": "e881fb65-e9f8-4246-838e-2cff56f0ebc1",
   "metadata": {},
   "source": [
    "Verificando valores NA em `ratings_df` (apenas fazendo um count, pois é custoso fazer o distplot deste dataset)."
   ]
  },
  {
   "cell_type": "code",
   "execution_count": 25,
   "id": "9f0be8cc-14cf-4770-9b00-7e08250eda93",
   "metadata": {},
   "outputs": [
    {
     "name": "stdout",
     "output_type": "stream",
     "text": [
      "CPU times: total: 15.6 ms\n",
      "Wall time: 2.06 s\n"
     ]
    },
    {
     "data": {
      "text/plain": [
       "customer_id    0\n",
       "rating         0\n",
       "date           0\n",
       "movie_id       0\n",
       "dtype: int64"
      ]
     },
     "execution_count": 25,
     "metadata": {},
     "output_type": "execute_result"
    }
   ],
   "source": [
    "%%time\n",
    "ratings_df[ratings_df.isna()].count().compute()"
   ]
  },
  {
   "cell_type": "markdown",
   "id": "3041441e-b4d1-428f-8ddb-8d7ab0947051",
   "metadata": {},
   "source": [
    "Convertendo date de string para datetime em ratings_df"
   ]
  },
  {
   "cell_type": "code",
   "execution_count": 26,
   "id": "294cd94a-5c78-4ee0-8914-c959d114002c",
   "metadata": {},
   "outputs": [
    {
     "data": {
      "text/plain": [
       "customer_id             int64\n",
       "rating                float64\n",
       "date           datetime64[ns]\n",
       "movie_id                int64\n",
       "dtype: object"
      ]
     },
     "execution_count": 26,
     "metadata": {},
     "output_type": "execute_result"
    }
   ],
   "source": [
    "ratings_df.date = dd.to_datetime(ratings_df.date)\n",
    "ratings_df.dtypes"
   ]
  },
  {
   "cell_type": "code",
   "execution_count": 27,
   "id": "f1bc158d-ecec-4450-ae03-28155e96ec05",
   "metadata": {},
   "outputs": [
    {
     "data": {
      "text/html": [
       "<div>\n",
       "<style scoped>\n",
       "    .dataframe tbody tr th:only-of-type {\n",
       "        vertical-align: middle;\n",
       "    }\n",
       "\n",
       "    .dataframe tbody tr th {\n",
       "        vertical-align: top;\n",
       "    }\n",
       "\n",
       "    .dataframe thead th {\n",
       "        text-align: right;\n",
       "    }\n",
       "</style>\n",
       "<table border=\"1\" class=\"dataframe\">\n",
       "  <thead>\n",
       "    <tr style=\"text-align: right;\">\n",
       "      <th></th>\n",
       "      <th>customer_id</th>\n",
       "      <th>rating</th>\n",
       "      <th>date</th>\n",
       "      <th>movie_id</th>\n",
       "    </tr>\n",
       "  </thead>\n",
       "  <tbody>\n",
       "    <tr>\n",
       "      <th>0</th>\n",
       "      <td>1488844</td>\n",
       "      <td>3.0</td>\n",
       "      <td>2005-09-06</td>\n",
       "      <td>1</td>\n",
       "    </tr>\n",
       "    <tr>\n",
       "      <th>1</th>\n",
       "      <td>822109</td>\n",
       "      <td>5.0</td>\n",
       "      <td>2005-05-13</td>\n",
       "      <td>1</td>\n",
       "    </tr>\n",
       "    <tr>\n",
       "      <th>2</th>\n",
       "      <td>885013</td>\n",
       "      <td>4.0</td>\n",
       "      <td>2005-10-19</td>\n",
       "      <td>1</td>\n",
       "    </tr>\n",
       "    <tr>\n",
       "      <th>3</th>\n",
       "      <td>30878</td>\n",
       "      <td>4.0</td>\n",
       "      <td>2005-12-26</td>\n",
       "      <td>1</td>\n",
       "    </tr>\n",
       "    <tr>\n",
       "      <th>4</th>\n",
       "      <td>823519</td>\n",
       "      <td>3.0</td>\n",
       "      <td>2004-05-03</td>\n",
       "      <td>1</td>\n",
       "    </tr>\n",
       "  </tbody>\n",
       "</table>\n",
       "</div>"
      ],
      "text/plain": [
       "   customer_id  rating       date  movie_id\n",
       "0      1488844     3.0 2005-09-06         1\n",
       "1       822109     5.0 2005-05-13         1\n",
       "2       885013     4.0 2005-10-19         1\n",
       "3        30878     4.0 2005-12-26         1\n",
       "4       823519     3.0 2004-05-03         1"
      ]
     },
     "execution_count": 27,
     "metadata": {},
     "output_type": "execute_result"
    }
   ],
   "source": [
    "ratings_df.head()"
   ]
  },
  {
   "cell_type": "markdown",
   "id": "e1e3c2df-8356-4a2a-a101-c508f5edd25c",
   "metadata": {},
   "source": [
    "## Respondendo perguntas sobre os dados"
   ]
  },
  {
   "cell_type": "markdown",
   "id": "eaf04b64-6512-4d49-9d66-18b26186dd9e",
   "metadata": {},
   "source": [
    "### 1. Quantos filmes estão disponíveis no dataset?"
   ]
  },
  {
   "cell_type": "code",
   "execution_count": 28,
   "id": "bc9308b0-ceb4-4def-8477-1c77fbd9a8c9",
   "metadata": {},
   "outputs": [
    {
     "name": "stdout",
     "output_type": "stream",
     "text": [
      "Quantidade de filmes disponíveis: 4499\n"
     ]
    }
   ],
   "source": [
    "# utilizando o único para garantir que não existem ids duplicados no index\n",
    "print('Quantidade de filmes disponíveis:', movies_df.index.unique().count().compute())"
   ]
  },
  {
   "cell_type": "markdown",
   "id": "1264a79c-0cc0-45d5-a7c3-55f0e678d9e6",
   "metadata": {},
   "source": [
    "### 2. Qual é o nome dos 5 filmes com melhor média de avaliação?"
   ]
  },
  {
   "cell_type": "markdown",
   "id": "6d46ee19-9049-4e52-acb6-21cef46c25fd",
   "metadata": {},
   "source": [
    "Podemos tirar a média das avaliações agrupando por `movie_id` e utilizar o `nlargest` para obter as 5 maiores médias."
   ]
  },
  {
   "cell_type": "code",
   "execution_count": 29,
   "id": "50efb5fe-6397-4c7f-960b-e81e71597da6",
   "metadata": {},
   "outputs": [
    {
     "data": {
      "text/html": [
       "<div><strong>Dask DataFrame Structure:</strong></div>\n",
       "<div>\n",
       "<style scoped>\n",
       "    .dataframe tbody tr th:only-of-type {\n",
       "        vertical-align: middle;\n",
       "    }\n",
       "\n",
       "    .dataframe tbody tr th {\n",
       "        vertical-align: top;\n",
       "    }\n",
       "\n",
       "    .dataframe thead th {\n",
       "        text-align: right;\n",
       "    }\n",
       "</style>\n",
       "<table border=\"1\" class=\"dataframe\">\n",
       "  <thead>\n",
       "    <tr style=\"text-align: right;\">\n",
       "      <th></th>\n",
       "      <th>title</th>\n",
       "      <th>rating</th>\n",
       "    </tr>\n",
       "    <tr>\n",
       "      <th>npartitions=1</th>\n",
       "      <th></th>\n",
       "      <th></th>\n",
       "    </tr>\n",
       "  </thead>\n",
       "  <tbody>\n",
       "    <tr>\n",
       "      <th></th>\n",
       "      <td>string</td>\n",
       "      <td>float64</td>\n",
       "    </tr>\n",
       "    <tr>\n",
       "      <th></th>\n",
       "      <td>...</td>\n",
       "      <td>...</td>\n",
       "    </tr>\n",
       "  </tbody>\n",
       "</table>\n",
       "</div>\n",
       "<div>Dask Name: getitem, 1 graph layer</div>"
      ],
      "text/plain": [
       "Dask DataFrame Structure:\n",
       "                title   rating\n",
       "npartitions=1                 \n",
       "               string  float64\n",
       "                  ...      ...\n",
       "Dask Name: getitem, 1 graph layer"
      ]
     },
     "execution_count": 29,
     "metadata": {},
     "output_type": "execute_result"
    }
   ],
   "source": [
    "top_5_ratings = ratings_df[['movie_id', 'rating']] \\\n",
    "    .groupby('movie_id') \\\n",
    "    .mean() \\\n",
    "    .nlargest(5, columns='rating') \\\n",
    "    .join(movies_df, how='inner') \\\n",
    "    [['title', 'rating']] \\\n",
    "    .persist()\n",
    "top_5_ratings"
   ]
  },
  {
   "cell_type": "code",
   "execution_count": 30,
   "id": "07a0d69e-680e-405e-b4ed-04e2661febce",
   "metadata": {},
   "outputs": [
    {
     "name": "stdout",
     "output_type": "stream",
     "text": [
      "CPU times: total: 31.2 ms\n",
      "Wall time: 4.47 s\n"
     ]
    },
    {
     "data": {
      "text/html": [
       "<div>\n",
       "<style scoped>\n",
       "    .dataframe tbody tr th:only-of-type {\n",
       "        vertical-align: middle;\n",
       "    }\n",
       "\n",
       "    .dataframe tbody tr th {\n",
       "        vertical-align: top;\n",
       "    }\n",
       "\n",
       "    .dataframe thead th {\n",
       "        text-align: right;\n",
       "    }\n",
       "</style>\n",
       "<table border=\"1\" class=\"dataframe\">\n",
       "  <thead>\n",
       "    <tr style=\"text-align: right;\">\n",
       "      <th></th>\n",
       "      <th>title</th>\n",
       "      <th>rating</th>\n",
       "    </tr>\n",
       "    <tr>\n",
       "      <th>movie_id</th>\n",
       "      <th></th>\n",
       "      <th></th>\n",
       "    </tr>\n",
       "  </thead>\n",
       "  <tbody>\n",
       "    <tr>\n",
       "      <th>3456</th>\n",
       "      <td>Lost: Season 1</td>\n",
       "      <td>4.670989</td>\n",
       "    </tr>\n",
       "    <tr>\n",
       "      <th>3033</th>\n",
       "      <td>Ghost in the Shell: Stand Alone Complex: 2nd Gig</td>\n",
       "      <td>4.586364</td>\n",
       "    </tr>\n",
       "    <tr>\n",
       "      <th>2102</th>\n",
       "      <td>The Simpsons: Season 6</td>\n",
       "      <td>4.581296</td>\n",
       "    </tr>\n",
       "    <tr>\n",
       "      <th>4238</th>\n",
       "      <td>Inu-Yasha</td>\n",
       "      <td>4.554434</td>\n",
       "    </tr>\n",
       "    <tr>\n",
       "      <th>13</th>\n",
       "      <td>Lord of the Rings: The Return of the King: Ext...</td>\n",
       "      <td>4.552000</td>\n",
       "    </tr>\n",
       "  </tbody>\n",
       "</table>\n",
       "</div>"
      ],
      "text/plain": [
       "                                                      title    rating\n",
       "movie_id                                                             \n",
       "3456                                         Lost: Season 1  4.670989\n",
       "3033       Ghost in the Shell: Stand Alone Complex: 2nd Gig  4.586364\n",
       "2102                                 The Simpsons: Season 6  4.581296\n",
       "4238                                              Inu-Yasha  4.554434\n",
       "13        Lord of the Rings: The Return of the King: Ext...  4.552000"
      ]
     },
     "execution_count": 30,
     "metadata": {},
     "output_type": "execute_result"
    }
   ],
   "source": [
    "%%time\n",
    "top_5_ratings.compute()"
   ]
  },
  {
   "cell_type": "markdown",
   "id": "e0b8f7e8-9275-4ece-a75c-f2853db392c7",
   "metadata": {},
   "source": [
    "### 3. Quais os 9 anos com menos lançamentos de filmes?"
   ]
  },
  {
   "cell_type": "markdown",
   "id": "145bb068-9627-4945-aa72-106180d4b6b1",
   "metadata": {},
   "source": [
    "Já separamos o ano em uma coluna independente, então podemos contar agrupando por ano e utilizar o `nsmallest` para obter os anos com menos lançamentos."
   ]
  },
  {
   "cell_type": "code",
   "execution_count": 31,
   "id": "a54ae858-f183-47c1-a835-0d7ad7547293",
   "metadata": {},
   "outputs": [
    {
     "name": "stdout",
     "output_type": "stream",
     "text": [
      "Anos com menos lançamentos: 1915, 1916, 1917, 1918, 1922, 1924, 1926, 1929, 1931\n"
     ]
    }
   ],
   "source": [
    "years = movies_df \\\n",
    "    .groupby('year') \\\n",
    "    .count() \\\n",
    "    ['title'] \\\n",
    "    .rename('count') \\\n",
    "    .nsmallest(9) \\\n",
    "    .compute() \\\n",
    "    .index \\\n",
    "    .sort_values() \\\n",
    "    .tolist()\n",
    "\n",
    "print('Anos com menos lançamentos:', \", \".join(years))"
   ]
  },
  {
   "cell_type": "markdown",
   "id": "7040991b-8d91-4e55-a494-577f4a6481e5",
   "metadata": {},
   "source": [
    "### 4. Quantos filmes que possuem avaliação maior ou igual a 4.7, considerando apenas os filmes avaliados na última data de avaliação do dataset?"
   ]
  },
  {
   "cell_type": "markdown",
   "id": "c4398fc7-292c-4b7b-9cfb-eba3990d0d72",
   "metadata": {},
   "source": [
    "Primeiro vamos filtrar o `ratings_df` por `date` e `rating`."
   ]
  },
  {
   "cell_type": "code",
   "execution_count": 32,
   "id": "c6fcc46e-1e6d-4d57-8587-629ddabdabf4",
   "metadata": {},
   "outputs": [
    {
     "data": {
      "text/html": [
       "<div><strong>Dask DataFrame Structure:</strong></div>\n",
       "<div>\n",
       "<style scoped>\n",
       "    .dataframe tbody tr th:only-of-type {\n",
       "        vertical-align: middle;\n",
       "    }\n",
       "\n",
       "    .dataframe tbody tr th {\n",
       "        vertical-align: top;\n",
       "    }\n",
       "\n",
       "    .dataframe thead th {\n",
       "        text-align: right;\n",
       "    }\n",
       "</style>\n",
       "<table border=\"1\" class=\"dataframe\">\n",
       "  <thead>\n",
       "    <tr style=\"text-align: right;\">\n",
       "      <th></th>\n",
       "      <th>customer_id</th>\n",
       "      <th>rating</th>\n",
       "      <th>date</th>\n",
       "      <th>movie_id</th>\n",
       "    </tr>\n",
       "    <tr>\n",
       "      <th>npartitions=10</th>\n",
       "      <th></th>\n",
       "      <th></th>\n",
       "      <th></th>\n",
       "      <th></th>\n",
       "    </tr>\n",
       "  </thead>\n",
       "  <tbody>\n",
       "    <tr>\n",
       "      <th></th>\n",
       "      <td>int64</td>\n",
       "      <td>float64</td>\n",
       "      <td>datetime64[ns]</td>\n",
       "      <td>int64</td>\n",
       "    </tr>\n",
       "    <tr>\n",
       "      <th></th>\n",
       "      <td>...</td>\n",
       "      <td>...</td>\n",
       "      <td>...</td>\n",
       "      <td>...</td>\n",
       "    </tr>\n",
       "    <tr>\n",
       "      <th>...</th>\n",
       "      <td>...</td>\n",
       "      <td>...</td>\n",
       "      <td>...</td>\n",
       "      <td>...</td>\n",
       "    </tr>\n",
       "    <tr>\n",
       "      <th></th>\n",
       "      <td>...</td>\n",
       "      <td>...</td>\n",
       "      <td>...</td>\n",
       "      <td>...</td>\n",
       "    </tr>\n",
       "    <tr>\n",
       "      <th></th>\n",
       "      <td>...</td>\n",
       "      <td>...</td>\n",
       "      <td>...</td>\n",
       "      <td>...</td>\n",
       "    </tr>\n",
       "  </tbody>\n",
       "</table>\n",
       "</div>\n",
       "<div>Dask Name: getitem, 1 graph layer</div>"
      ],
      "text/plain": [
       "Dask DataFrame Structure:\n",
       "               customer_id   rating            date movie_id\n",
       "npartitions=10                                              \n",
       "                     int64  float64  datetime64[ns]    int64\n",
       "                       ...      ...             ...      ...\n",
       "...                    ...      ...             ...      ...\n",
       "                       ...      ...             ...      ...\n",
       "                       ...      ...             ...      ...\n",
       "Dask Name: getitem, 1 graph layer"
      ]
     },
     "execution_count": 32,
     "metadata": {},
     "output_type": "execute_result"
    }
   ],
   "source": [
    "latest_rating_date = ratings_df['date'].max().persist()\n",
    "top_rating_movies_in_latest_date = ratings_df \\\n",
    "    [(ratings_df['date'] == latest_rating_date) & (ratings_df['rating'] >= 4.7)] \\\n",
    "    .persist()\n",
    "top_rating_movies_in_latest_date"
   ]
  },
  {
   "cell_type": "markdown",
   "id": "1b334608-187d-4c7b-a37b-3a6cff1227b6",
   "metadata": {},
   "source": [
    "Podemos então contar a quantidade de linhas após filtrar os dados."
   ]
  },
  {
   "cell_type": "code",
   "execution_count": 33,
   "id": "476bf908-01c4-49cd-8c49-68188253e376",
   "metadata": {},
   "outputs": [
    {
     "name": "stdout",
     "output_type": "stream",
     "text": [
      "Filmes com avaliação maior ou igual a 4.7 em 31/12/2005: 2167\n"
     ]
    }
   ],
   "source": [
    "count = top_rating_movies_in_latest_date.index.count().compute()\n",
    "date_str = latest_rating_date.compute().strftime(\"%d/%m/%Y\")\n",
    "print('Filmes com avaliação maior ou igual a 4.7 em %s: %d' % (date_str, count))"
   ]
  },
  {
   "cell_type": "markdown",
   "id": "3a49e438-2726-40dc-9d49-bca52b9c370d",
   "metadata": {},
   "source": [
    "### 5. Dos filmes encontrados na questão anterior, quais são os 10 filmes com as piores notas e quais as notas?"
   ]
  },
  {
   "cell_type": "markdown",
   "id": "8a3fc1d9-9f46-4f3a-935f-2cda73b007ec",
   "metadata": {},
   "source": [
    "Para essa questão, vamos considerar que a nota de um filme é igual à média de suas avaliações. Caso contrário, não seria possível obter as piores notas, uma vez que estamos trabalhando em cima de um subconjunto de `ratings_df` com avaliações maiores que 4,7."
   ]
  },
  {
   "cell_type": "code",
   "execution_count": 34,
   "id": "d8f69953-4d30-44e4-8bcb-d113e15b852e",
   "metadata": {},
   "outputs": [],
   "source": [
    "# vamos filtrar ratings_df pelos ids dos filmes encontrados anteriormente\n",
    "movie_ids = top_rating_movies_in_latest_date['movie_id'].compute()"
   ]
  },
  {
   "cell_type": "code",
   "execution_count": 35,
   "id": "b538c907-5407-4226-9456-50679b723f03",
   "metadata": {},
   "outputs": [
    {
     "data": {
      "text/html": [
       "<div>\n",
       "<style scoped>\n",
       "    .dataframe tbody tr th:only-of-type {\n",
       "        vertical-align: middle;\n",
       "    }\n",
       "\n",
       "    .dataframe tbody tr th {\n",
       "        vertical-align: top;\n",
       "    }\n",
       "\n",
       "    .dataframe thead th {\n",
       "        text-align: right;\n",
       "    }\n",
       "</style>\n",
       "<table border=\"1\" class=\"dataframe\">\n",
       "  <thead>\n",
       "    <tr style=\"text-align: right;\">\n",
       "      <th></th>\n",
       "      <th>title</th>\n",
       "      <th>year</th>\n",
       "      <th>rating</th>\n",
       "    </tr>\n",
       "    <tr>\n",
       "      <th>movie_id</th>\n",
       "      <th></th>\n",
       "      <th></th>\n",
       "      <th></th>\n",
       "    </tr>\n",
       "  </thead>\n",
       "  <tbody>\n",
       "    <tr>\n",
       "      <th>3064</th>\n",
       "      <td>Emmanuelle in Hong Kong</td>\n",
       "      <td>2003</td>\n",
       "      <td>2.179837</td>\n",
       "    </tr>\n",
       "    <tr>\n",
       "      <th>4255</th>\n",
       "      <td>Gerry</td>\n",
       "      <td>2002</td>\n",
       "      <td>2.200466</td>\n",
       "    </tr>\n",
       "    <tr>\n",
       "      <th>1360</th>\n",
       "      <td>Emmanuelle in Rio</td>\n",
       "      <td>2003</td>\n",
       "      <td>2.385233</td>\n",
       "    </tr>\n",
       "    <tr>\n",
       "      <th>2044</th>\n",
       "      <td>The Anna Nicole Show: Season 1</td>\n",
       "      <td>2002</td>\n",
       "      <td>2.461310</td>\n",
       "    </tr>\n",
       "    <tr>\n",
       "      <th>2675</th>\n",
       "      <td>Solaris</td>\n",
       "      <td>2002</td>\n",
       "      <td>2.499584</td>\n",
       "    </tr>\n",
       "    <tr>\n",
       "      <th>4355</th>\n",
       "      <td>Coffee and Cigarettes</td>\n",
       "      <td>2003</td>\n",
       "      <td>2.689412</td>\n",
       "    </tr>\n",
       "    <tr>\n",
       "      <th>1363</th>\n",
       "      <td>Leprechaun</td>\n",
       "      <td>1993</td>\n",
       "      <td>2.747490</td>\n",
       "    </tr>\n",
       "    <tr>\n",
       "      <th>3595</th>\n",
       "      <td>Elvira</td>\n",
       "      <td>1988</td>\n",
       "      <td>2.757336</td>\n",
       "    </tr>\n",
       "    <tr>\n",
       "      <th>1948</th>\n",
       "      <td>Beau Travail</td>\n",
       "      <td>1999</td>\n",
       "      <td>2.763338</td>\n",
       "    </tr>\n",
       "    <tr>\n",
       "      <th>2109</th>\n",
       "      <td>Grease 2</td>\n",
       "      <td>1982</td>\n",
       "      <td>2.810419</td>\n",
       "    </tr>\n",
       "  </tbody>\n",
       "</table>\n",
       "</div>"
      ],
      "text/plain": [
       "                                   title  year    rating\n",
       "movie_id                                                \n",
       "3064             Emmanuelle in Hong Kong  2003  2.179837\n",
       "4255                               Gerry  2002  2.200466\n",
       "1360                   Emmanuelle in Rio  2003  2.385233\n",
       "2044      The Anna Nicole Show: Season 1  2002  2.461310\n",
       "2675                             Solaris  2002  2.499584\n",
       "4355               Coffee and Cigarettes  2003  2.689412\n",
       "1363                          Leprechaun  1993  2.747490\n",
       "3595                              Elvira  1988  2.757336\n",
       "1948                        Beau Travail  1999  2.763338\n",
       "2109                            Grease 2  1982  2.810419"
      ]
     },
     "execution_count": 35,
     "metadata": {},
     "output_type": "execute_result"
    }
   ],
   "source": [
    "ratings_df \\\n",
    "    [ratings_df['movie_id'].isin(movie_ids)] \\\n",
    "    [['movie_id', 'rating']] \\\n",
    "    .groupby('movie_id') \\\n",
    "    .mean() \\\n",
    "    .nsmallest(10, columns='rating') \\\n",
    "    .join(movies_df, how='inner') \\\n",
    "    [['title', 'year','rating']] \\\n",
    "    .compute()"
   ]
  },
  {
   "cell_type": "markdown",
   "id": "81a1859e-38b9-47d8-96a3-d05a180b3ce7",
   "metadata": {},
   "source": [
    "### Quais os id's dos 5 customers que mais avaliaram filmes e quantas avaliações cada um fez?"
   ]
  },
  {
   "cell_type": "markdown",
   "id": "cf7e9d36-b41e-4f0c-aa06-fbacdd58d2d8",
   "metadata": {},
   "source": [
    "Precisamos contar as avaliações por `customer_id` e obter as 5 maiores com `nlargest`."
   ]
  },
  {
   "cell_type": "code",
   "execution_count": 36,
   "id": "1f102372-1bfc-498a-b857-87008f6fbdee",
   "metadata": {},
   "outputs": [
    {
     "data": {
      "text/html": [
       "<div>\n",
       "<style scoped>\n",
       "    .dataframe tbody tr th:only-of-type {\n",
       "        vertical-align: middle;\n",
       "    }\n",
       "\n",
       "    .dataframe tbody tr th {\n",
       "        vertical-align: top;\n",
       "    }\n",
       "\n",
       "    .dataframe thead th {\n",
       "        text-align: right;\n",
       "    }\n",
       "</style>\n",
       "<table border=\"1\" class=\"dataframe\">\n",
       "  <thead>\n",
       "    <tr style=\"text-align: right;\">\n",
       "      <th></th>\n",
       "      <th>customer_id</th>\n",
       "      <th>count</th>\n",
       "    </tr>\n",
       "  </thead>\n",
       "  <tbody>\n",
       "    <tr>\n",
       "      <th>0</th>\n",
       "      <td>305344</td>\n",
       "      <td>4467</td>\n",
       "    </tr>\n",
       "    <tr>\n",
       "      <th>1</th>\n",
       "      <td>387418</td>\n",
       "      <td>4422</td>\n",
       "    </tr>\n",
       "    <tr>\n",
       "      <th>2</th>\n",
       "      <td>2439493</td>\n",
       "      <td>4195</td>\n",
       "    </tr>\n",
       "    <tr>\n",
       "      <th>3</th>\n",
       "      <td>1664010</td>\n",
       "      <td>4019</td>\n",
       "    </tr>\n",
       "    <tr>\n",
       "      <th>4</th>\n",
       "      <td>2118461</td>\n",
       "      <td>3769</td>\n",
       "    </tr>\n",
       "  </tbody>\n",
       "</table>\n",
       "</div>"
      ],
      "text/plain": [
       "   customer_id  count\n",
       "0       305344   4467\n",
       "1       387418   4422\n",
       "2      2439493   4195\n",
       "3      1664010   4019\n",
       "4      2118461   3769"
      ]
     },
     "execution_count": 36,
     "metadata": {},
     "output_type": "execute_result"
    }
   ],
   "source": [
    "ratings_df.groupby('customer_id') \\\n",
    "    .count() \\\n",
    "    ['rating'] \\\n",
    "    .rename('count') \\\n",
    "    .nlargest(5) \\\n",
    "    .compute() \\\n",
    "    .reset_index()"
   ]
  },
  {
   "cell_type": "code",
   "execution_count": 37,
   "id": "f788b292-a836-48d2-9d04-938ddcbe6899",
   "metadata": {},
   "outputs": [],
   "source": [
    "# encerrando cluster\n",
    "cluster.close()\n",
    "client.close()"
   ]
  }
 ],
 "metadata": {
  "kernelspec": {
   "display_name": "Python 3 (ipykernel)",
   "language": "python",
   "name": "python3"
  },
  "language_info": {
   "codemirror_mode": {
    "name": "ipython",
    "version": 3
   },
   "file_extension": ".py",
   "mimetype": "text/x-python",
   "name": "python",
   "nbconvert_exporter": "python",
   "pygments_lexer": "ipython3",
   "version": "3.11.4"
  }
 },
 "nbformat": 4,
 "nbformat_minor": 5
}
